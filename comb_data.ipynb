{
 "cells": [
  {
   "cell_type": "markdown",
   "id": "e913d39f-eed2-4d47-b8fc-498187785c20",
   "metadata": {},
   "source": [
    "# Data Loading and Combination / მონაცემთა ჩატვირთვა და გაერთიანება\n",
    "\n",
    "### English\n",
    "The first step in our data analysis process involves loading multiple excel files containing suicide data from 2019 to 2023. Each file represents data for a single year. The code aim  is to combine them into a single excel file for better data processing and analysis.\n",
    "\n",
    "### Georgian\n",
    "ჩვენი მონაცემთა ანალიზის პირველი ნაბიჯი მოიცავს 2019-2023 წლების განმავლობაში სუიციდის მონაცემთა ექსელის ფაილების ჩატვირთვას. თითოეული ფაილი წარმოადგენს ერთ წელიწადს. კოდის მიზანია მათი გაერთიანება ექსელის ერთ ფაილში, რათა შევძლოთ მონაცემების უკეთ დამუშავება და გაანალიზება.\n"
   ]
  },
  {
   "cell_type": "code",
   "execution_count": 5,
   "id": "0a2645cc-cbdd-4d75-af40-c496f75bc03b",
   "metadata": {},
   "outputs": [],
   "source": [
    "import pandas as pd\n",
    "import os\n",
    "\n",
    "folder_path = 'C:\\\\Users\\\\user\\\\Desktop\\\\suicide_analysis\\\\datas_2019-2023'\n",
    "\n",
    "dfs = []\n",
    "#iwyeba 4 rowdan da pirveli columni zedmetia\n",
    "header_col=['num', 'სუიციდი','მცდელობა','ასაკი','სქესი','მოქალაქეობა','რეგიონი']\n",
    "\n",
    "for year in range(2019, 2024): \n",
    "    file_path = os.path.join(folder_path, f'{year}.xlsx')\n",
    "    df = pd.read_excel(file_path,skiprows=3)\n",
    "    df.columns=header_col\n",
    "    df['წელი'] = year\n",
    "    dfs.append(df)\n",
    "\n",
    "comb_data = pd.concat(dfs, ignore_index=True)\n",
    "comb_data = comb_data.drop(comb_data.columns[0], axis=1)\n",
    "\n",
    "comb_data.to_excel('suicide_data.xlsx', index=False)\n",
    "\n"
   ]
  },
  {
   "cell_type": "code",
   "execution_count": null,
   "id": "1575d08f-31f8-4d9f-8c60-a8b5dc698348",
   "metadata": {},
   "outputs": [],
   "source": []
  }
 ],
 "metadata": {
  "kernelspec": {
   "display_name": "Python 3 (ipykernel)",
   "language": "python",
   "name": "python3"
  },
  "language_info": {
   "codemirror_mode": {
    "name": "ipython",
    "version": 3
   },
   "file_extension": ".py",
   "mimetype": "text/x-python",
   "name": "python",
   "nbconvert_exporter": "python",
   "pygments_lexer": "ipython3",
   "version": "3.12.4"
  }
 },
 "nbformat": 4,
 "nbformat_minor": 5
}
