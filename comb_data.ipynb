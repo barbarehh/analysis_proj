{
 "cells": [
  {
   "cell_type": "code",
   "execution_count": 5,
   "id": "0a2645cc-cbdd-4d75-af40-c496f75bc03b",
   "metadata": {},
   "outputs": [],
   "source": [
    "import pandas as pd\n",
    "import os\n",
    "\n",
    "folder_path = 'C:\\\\Users\\\\user\\\\Desktop\\\\suicide_analysis\\\\datas_2019-2023'\n",
    "\n",
    "dfs = []\n",
    "#iwyeba 4 rowdan da pirveli columni zedmetia\n",
    "header_col=['num', 'სუიციდი','მცდელობა','ასაკი','სქესი','მოქალაქეობა','რეგიონი']\n",
    "\n",
    "for year in range(2019, 2024): \n",
    "    file_path = os.path.join(folder_path, f'{year}.xlsx')\n",
    "    df = pd.read_excel(file_path,skiprows=3)\n",
    "    df.columns=header_col\n",
    "    df['წელი'] = year\n",
    "    dfs.append(df)\n",
    "\n",
    "comb_data = pd.concat(dfs, ignore_index=True)\n",
    "comb_data = comb_data.drop(comb_data.columns[0], axis=1)\n",
    "\n",
    "comb_data.to_excel('suicide_data.xlsx', index=False)\n",
    "\n"
   ]
  },
  {
   "cell_type": "code",
   "execution_count": null,
   "id": "49a6ed47-7d9a-4cde-8b3e-f295cd680408",
   "metadata": {},
   "outputs": [],
   "source": []
  }
 ],
 "metadata": {
  "kernelspec": {
   "display_name": "Python 3 (ipykernel)",
   "language": "python",
   "name": "python3"
  },
  "language_info": {
   "codemirror_mode": {
    "name": "ipython",
    "version": 3
   },
   "file_extension": ".py",
   "mimetype": "text/x-python",
   "name": "python",
   "nbconvert_exporter": "python",
   "pygments_lexer": "ipython3",
   "version": "3.12.4"
  }
 },
 "nbformat": 4,
 "nbformat_minor": 5
}
