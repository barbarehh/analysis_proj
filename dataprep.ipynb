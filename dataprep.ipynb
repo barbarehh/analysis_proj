{
 "cells": [
  {
   "cell_type": "markdown",
   "id": "ba30b788-fb7e-4b89-b278-e0fb50917aad",
   "metadata": {},
   "source": [
    "# Data Preparation and Cleansing"
   ]
  },
  {
   "cell_type": "code",
   "execution_count": 31,
   "id": "ea62b00a-f312-4b71-afb1-7e144bfdbcaf",
   "metadata": {},
   "outputs": [],
   "source": [
    "import pandas as pd\n",
    "\n",
    "df=pd.read_excel('suicide_data.xlsx')"
   ]
  },
  {
   "cell_type": "code",
   "execution_count": 17,
   "id": "9868c077-cdbb-41e9-9559-b293c9666ff7",
   "metadata": {},
   "outputs": [],
   "source": [
    "# for col in df.columns:\n",
    "#     print(f\"განსხვავებული მნიშვნელობები '{col}':\")\n",
    "#     print(df[col].unique())\n",
    "#     print(\"-----------------------------------------------------\")"
   ]
  },
  {
   "cell_type": "code",
   "execution_count": 7,
   "id": "f29ef209-2201-48c6-9218-e20e131efd7e",
   "metadata": {},
   "outputs": [],
   "source": [
    "# age converting\n",
    "df['ასაკი'] = pd.to_numeric(df['ასაკი'], errors='coerce')\n",
    "\n",
    "# cleansing values\n",
    "for col in df.columns:\n",
    "    if df[col].dtype == 'object': \n",
    "        df[col] = df[col].str.strip()\n"
   ]
  },
  {
   "cell_type": "code",
   "execution_count": 9,
   "id": "c8e51d68-4f16-4a2c-a5f1-e6120e178865",
   "metadata": {},
   "outputs": [],
   "source": [
    "# df['სუიციდი/სუიციდის მცდელობა'] = df.apply(lambda row: row['მცდელობა'] if pd.isna(row['სუიციდი']) else row['სუიციდი'],axis=1)\n",
    "\n",
    "df.insert(0, 'სუიციდი/სუიციდის მცდელობა', df.apply(\n",
    "    lambda row: row['მცდელობა'] if pd.isna(row['სუიციდი']) else row['სუიციდი'],\n",
    "    axis=1\n",
    "))\n",
    "\n",
    "df.drop(columns=['სუიციდი', 'მცდელობა'], inplace=True)"
   ]
  },
  {
   "cell_type": "code",
   "execution_count": 11,
   "id": "aad90ac6-3202-4fc7-947d-0a27c5e985bc",
   "metadata": {},
   "outputs": [],
   "source": [
    "def optim():\n",
    "    df['მოქალაქეობა'] = df['მოქალაქეობა'].replace({\n",
    "        'თურქეთის რესპუბლიკა': 'თურქეთი',\n",
    "        'ირანის ისლამური რესპუბლიკა': 'ირანი',\n",
    "        'ლიბანის რესპუბლიკა': 'ლიბანი',\n",
    "        'რუსეთის ფედერაცია': 'რუსეთი',\n",
    "        'საქართველოს': 'საქართველო',\n",
    "        'საქართველო; რუსეთის ფედერაცია': 'საქართველო/რუსეთი',\n",
    "        'აშშ, რუსეთი': 'აშშ/რუსეთი',\n",
    "        'დაუდგენელი': 'უცნობია',\n",
    "    })\n",
    "    \n",
    "    # ase aqvt dayopili meravi\n",
    "    df['რეგიონი'] = df['რეგიონი'].replace({\n",
    "        'რაჭა-ლეჩხუმი და ქვემო სვანეთი': 'იმერეთი, რაჭა-ლეჩხუმი და ქვემო სვანეთი',\n",
    "        'იმერეთი': 'იმერეთი, რაჭა-ლეჩხუმი და ქვემო სვანეთი'\n",
    "    })\n",
    "\n",
    "optim()\n",
    "    "
   ]
  },
  {
   "cell_type": "code",
   "execution_count": 15,
   "id": "fff8be8b-e8ea-4748-87ee-84891fa6f601",
   "metadata": {},
   "outputs": [],
   "source": [
    "df.to_excel('suicide_data.xlsx', index=False)"
   ]
  },
  {
   "cell_type": "markdown",
   "id": "5f255044-96a0-4bf3-8e3a-1368edb76d0e",
   "metadata": {},
   "source": [
    "# Outliers Detection\n"
   ]
  },
  {
   "cell_type": "code",
   "execution_count": 145,
   "id": "cb9281bf-eaac-4e1a-8c0d-b8ec8c059e84",
   "metadata": {},
   "outputs": [
    {
     "data": {
      "image/png": "[encoded data removed]",
      "text/plain": [
       "<Figure size 700x600 with 1 Axes>"
      ]
     },
     "metadata": {},
     "output_type": "display_data"
    },
    {
     "name": "stdout",
     "output_type": "stream",
     "text": [
      "--------------------------------------------------\n",
      "1480    104.0\n",
      "Name: ასაკი, dtype: float64\n"
     ]
    }
   ],
   "source": [
    "import pandas as pd\n",
    "import matplotlib.pyplot as plt\n",
    "import seaborn as sns\n",
    "\n",
    "df=pd.read_excel('suicide_data.xlsx')\n",
    "\n",
    "Q1 = df['ასაკი'].quantile(0.25)\n",
    "Q3 = df['ასაკი'].quantile(0.75)\n",
    "IQR = Q3 - Q1\n",
    "lower_bound = Q1 - 1.5 * IQR\n",
    "upper_bound = Q3 + 1.5 * IQR\n",
    "age_outliers = df[(df['ასაკი'] < lower_bound) | (df['ასაკი'] > upper_bound)]\n",
    "\n",
    "fig, ax = plt.subplots(figsize=(7, 6))\n",
    "\n",
    "# Outliers in age col using boxplot \n",
    "sns.boxplot(x=df['ასაკი'], ax=ax)\n",
    "ax.set_title(\"ასაკის განაწილება (Box Plot)\")\n",
    "ax.set_xlabel(\"ასაკი\")\n",
    "sns.scatterplot(x=age_outliers['ასაკი'], y=[0] * len(age_outliers), color='red', ax=ax, label=\"Outliers\", s=100)\n",
    "\n",
    "plt.tight_layout()\n",
    "plt.show()\n",
    "\n",
    "\n",
    "print('-'*50)\n",
    "print(age_outliers['ასაკი'])\n"
   ]
  },
  {
   "cell_type": "code",
   "execution_count": 69,
   "id": "86e829ad-c068-429b-8025-5d934bd01372",
   "metadata": {},
   "outputs": [],
   "source": [
    "# leave for now own rare case and not dropping\n",
    "# df.drop(age_outliers.index, inplace=True)\n"
   ]
  },
  {
   "cell_type": "code",
   "execution_count": 147,
   "id": "17281869-e164-4787-9aed-34402997bfc1",
   "metadata": {},
   "outputs": [
    {
     "data": {
      "text/plain": [
       "სუიციდი/სუიციდის მცდელობა    0\n",
       "ასაკი                        1\n",
       "სქესი                        0\n",
       "მოქალაქეობა                  0\n",
       "რეგიონი                      0\n",
       "წელი                         0\n",
       "dtype: int64"
      ]
     },
     "execution_count": 147,
     "metadata": {},
     "output_type": "execute_result"
    }
   ],
   "source": [
    "df.isnull().sum()"
   ]
  },
  {
   "cell_type": "code",
   "execution_count": 149,
   "id": "5f57bccf-35a4-4fd2-ac96-a7b898cedcef",
   "metadata": {},
   "outputs": [],
   "source": [
    "df['ასაკი'] = df['ასაკი'].fillna(df['ასაკი'].median()).astype(float)"
   ]
  },
  {
   "cell_type": "code",
   "execution_count": null,
   "id": "1a0ea4f1-f8c2-45ac-beff-53d4e7d27fce",
   "metadata": {},
   "outputs": [],
   "source": []
  },
  {
   "cell_type": "code",
   "execution_count": null,
   "id": "d5bc9b28-5a50-48bd-8681-e987fd0c1e89",
   "metadata": {},
   "outputs": [],
   "source": []
  }
 ],
 "metadata": {
  "kernelspec": {
   "display_name": "Python 3 (ipykernel)",
   "language": "python",
   "name": "python3"
  },
  "language_info": {
   "codemirror_mode": {
    "name": "ipython",
    "version": 3
   },
   "file_extension": ".py",
   "mimetype": "text/x-python",
   "name": "python",
   "nbconvert_exporter": "python",
   "pygments_lexer": "ipython3",
   "version": "3.12.4"
  }
 },
 "nbformat": 4,
 "nbformat_minor": 5
}
