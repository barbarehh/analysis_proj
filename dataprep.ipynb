{
 "cells": [
  {
   "cell_type": "code",
   "execution_count": 3,
   "id": "ea62b00a-f312-4b71-afb1-7e144bfdbcaf",
   "metadata": {},
   "outputs": [
    {
     "name": "stdout",
     "output_type": "stream",
     "text": [
      "<class 'pandas.core.frame.DataFrame'>\n",
      "RangeIndex: 4062 entries, 0 to 4061\n",
      "Data columns (total 7 columns):\n",
      " #   Column       Non-Null Count  Dtype \n",
      "---  ------       --------------  ----- \n",
      " 0   სუიციდი      2049 non-null   object\n",
      " 1   მცდელობა     2013 non-null   object\n",
      " 2   ასაკი        4062 non-null   object\n",
      " 3   სქესი        4062 non-null   object\n",
      " 4   მოქალაქეობა  4062 non-null   object\n",
      " 5   რეგიონი      4062 non-null   object\n",
      " 6   წელი         4062 non-null   int64 \n",
      "dtypes: int64(1), object(6)\n",
      "memory usage: 222.3+ KB\n",
      "None\n"
     ]
    }
   ],
   "source": [
    "import pandas as pd\n",
    "\n",
    "df=pd.read_excel('suicide_data.xlsx')\n",
    "print(df.info())"
   ]
  },
  {
   "cell_type": "code",
   "execution_count": 17,
   "id": "9868c077-cdbb-41e9-9559-b293c9666ff7",
   "metadata": {},
   "outputs": [],
   "source": [
    "# for col in df.columns:\n",
    "#     print(f\"განსხვავებული მნიშვნელობები '{col}':\")\n",
    "#     print(df[col].unique())\n",
    "#     print(\"-----------------------------------------------------\")"
   ]
  },
  {
   "cell_type": "code",
   "execution_count": 7,
   "id": "f29ef209-2201-48c6-9218-e20e131efd7e",
   "metadata": {},
   "outputs": [],
   "source": [
    "# age converting\n",
    "df['ასაკი'] = pd.to_numeric(df['ასაკი'], errors='coerce')\n",
    "\n",
    "# cleansing values\n",
    "for col in df.columns:\n",
    "    if df[col].dtype == 'object': \n",
    "        df[col] = df[col].str.strip()\n"
   ]
  },
  {
   "cell_type": "code",
   "execution_count": 9,
   "id": "c8e51d68-4f16-4a2c-a5f1-e6120e178865",
   "metadata": {},
   "outputs": [],
   "source": [
    "# df['სუიციდი/სუიციდის მცდელობა'] = df.apply(lambda row: row['მცდელობა'] if pd.isna(row['სუიციდი']) else row['სუიციდი'],axis=1)\n",
    "\n",
    "df.insert(0, 'სუიციდი/სუიციდის მცდელობა', df.apply(\n",
    "    lambda row: row['მცდელობა'] if pd.isna(row['სუიციდი']) else row['სუიციდი'],\n",
    "    axis=1\n",
    "))\n",
    "\n",
    "df.drop(columns=['სუიციდი', 'მცდელობა'], inplace=True)"
   ]
  },
  {
   "cell_type": "code",
   "execution_count": 11,
   "id": "aad90ac6-3202-4fc7-947d-0a27c5e985bc",
   "metadata": {},
   "outputs": [],
   "source": [
    "def optim():\n",
    "    df['მოქალაქეობა'] = df['მოქალაქეობა'].replace({\n",
    "        'თურქეთის რესპუბლიკა': 'თურქეთი',\n",
    "        'ირანის ისლამური რესპუბლიკა': 'ირანი',\n",
    "        'ლიბანის რესპუბლიკა': 'ლიბანი',\n",
    "        'რუსეთის ფედერაცია': 'რუსეთი',\n",
    "        'საქართველოს': 'საქართველო',\n",
    "        'საქართველო; რუსეთის ფედერაცია': 'საქართველო/რუსეთი',\n",
    "        'აშშ, რუსეთი': 'აშშ/რუსეთი',\n",
    "        'დაუდგენელი': 'უცნობია',\n",
    "    })\n",
    "    \n",
    "    # ase aqvt dayopili meravi\n",
    "    df['რეგიონი'] = df['რეგიონი'].replace({\n",
    "        'რაჭა-ლეჩხუმი და ქვემო სვანეთი': 'იმერეთი, რაჭა-ლეჩხუმი და ქვემო სვანეთი',\n",
    "        'იმერეთი': 'იმერეთი, რაჭა-ლეჩხუმი და ქვემო სვანეთი'\n",
    "    })\n",
    "\n",
    "optim()\n",
    "    "
   ]
  },
  {
   "cell_type": "code",
   "execution_count": 15,
   "id": "fff8be8b-e8ea-4748-87ee-84891fa6f601",
   "metadata": {},
   "outputs": [],
   "source": [
    "df.to_excel('suicide_data.xlsx', index=False)"
   ]
  },
  {
   "cell_type": "code",
   "execution_count": null,
   "id": "cb9281bf-eaac-4e1a-8c0d-b8ec8c059e84",
   "metadata": {},
   "outputs": [],
   "source": []
  }
 ],
 "metadata": {
  "kernelspec": {
   "display_name": "Python 3 (ipykernel)",
   "language": "python",
   "name": "python3"
  },
  "language_info": {
   "codemirror_mode": {
    "name": "ipython",
    "version": 3
   },
   "file_extension": ".py",
   "mimetype": "text/x-python",
   "name": "python",
   "nbconvert_exporter": "python",
   "pygments_lexer": "ipython3",
   "version": "3.12.4"
  }
 },
 "nbformat": 4,
 "nbformat_minor": 5
}
